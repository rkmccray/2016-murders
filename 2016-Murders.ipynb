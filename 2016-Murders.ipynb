{
 "cells": [
  {
   "cell_type": "code",
   "execution_count": 46,
   "id": "4baa9adc-84c5-4050-b048-959f6790ff47",
   "metadata": {},
   "outputs": [],
   "source": [
    "## assign values for number of murders\n",
    "\n",
    "chi_murders = 762\n",
    "la_murders = 294\n",
    "nyc_murders = 334\n",
    "sj_murders = 47"
   ]
  },
  {
   "cell_type": "code",
   "execution_count": 48,
   "id": "0be7009a-2a84-4652-9ce2-ae4764b40cd3",
   "metadata": {},
   "outputs": [],
   "source": [
    "## assign values for total pop\n",
    "\n",
    "chi_pop = 2_705_000\n",
    "la_pop = 3_976_000\n",
    "nyc_pop = 8_538_000\n",
    "sj_pop = 1_025_000"
   ]
  },
  {
   "cell_type": "code",
   "execution_count": 26,
   "id": "5fe0d6f9-4778-4260-878d-d5ffd616e9b4",
   "metadata": {},
   "outputs": [],
   "source": [
    "## calculate chicago murder rate\n",
    "\n",
    "chicagomurderrate = (chi_murders / chi_pop) * 100_000"
   ]
  },
  {
   "cell_type": "code",
   "execution_count": 24,
   "id": "7d5a57b2-098e-40a3-9fe6-ece69a75b53a",
   "metadata": {},
   "outputs": [
    {
     "data": {
      "text/plain": [
       "28.170055452865068"
      ]
     },
     "execution_count": 24,
     "metadata": {},
     "output_type": "execute_result"
    }
   ],
   "source": [
    "chicagomurderrate"
   ]
  },
  {
   "cell_type": "code",
   "execution_count": 40,
   "id": "abfb26d8-1e07-48bd-ba6f-6de6e7ffbd39",
   "metadata": {},
   "outputs": [],
   "source": [
    "## calculate la murder rate\n",
    "\n",
    "lamurderrate = (la_murders / la_pop) * 100_000"
   ]
  },
  {
   "cell_type": "code",
   "execution_count": 30,
   "id": "6854ff6e-03b4-428b-b35d-a8973e93da79",
   "metadata": {},
   "outputs": [
    {
     "data": {
      "text/plain": [
       "7.394366197183098"
      ]
     },
     "execution_count": 30,
     "metadata": {},
     "output_type": "execute_result"
    }
   ],
   "source": [
    "lamurderrate"
   ]
  },
  {
   "cell_type": "code",
   "execution_count": 32,
   "id": "1463fba3-f73b-4cd5-b6b3-72ea648db77e",
   "metadata": {},
   "outputs": [],
   "source": [
    "## calculate nyc murder rate\n",
    "\n",
    "nycmurderrate = (nyc_murders / nyc_pop) * 100_000"
   ]
  },
  {
   "cell_type": "code",
   "execution_count": 34,
   "id": "fcfc25ab-8571-4d0a-87a3-35488e3360e1",
   "metadata": {},
   "outputs": [
    {
     "data": {
      "text/plain": [
       "3.911923167018037"
      ]
     },
     "execution_count": 34,
     "metadata": {},
     "output_type": "execute_result"
    }
   ],
   "source": [
    "nycmurderrate"
   ]
  },
  {
   "cell_type": "code",
   "execution_count": 42,
   "id": "7efdebb2-5c0f-46c0-bfd9-ee4bfa211aaa",
   "metadata": {},
   "outputs": [],
   "source": [
    "## calculate san josemurder rate\n",
    "\n",
    "sjmurderrate = (sj_murders / sj_pop) * 100_000"
   ]
  },
  {
   "cell_type": "code",
   "execution_count": 38,
   "id": "23a0c6ce-1c7c-4d86-94aa-75d6dd0f878a",
   "metadata": {},
   "outputs": [
    {
     "data": {
      "text/plain": [
       "4.585365853658536"
      ]
     },
     "execution_count": 38,
     "metadata": {},
     "output_type": "execute_result"
    }
   ],
   "source": [
    "sjmurderrate"
   ]
  },
  {
   "cell_type": "code",
   "execution_count": 54,
   "id": "7650aea3-e84b-4ced-bbbb-fa8451f7b4f2",
   "metadata": {},
   "outputs": [
    {
     "name": "stdout",
     "output_type": "stream",
     "text": [
      "New York City has the lowest murder rate at 3.91 per 100,000 people. Chicago has the highest murder rate at 28.17 per 100,000 people\n"
     ]
    }
   ],
   "source": [
    "## write sentence using f-strings that notes which city has the lowest murder rate.\n",
    "\n",
    "print(f\"New York City has the lowest murder rate at {nycmurderrate:,.2F} per 100,000 people. Chicago has the highest murder rate at {chicagomurderrate :,.2F} per 100,000 people\")"
   ]
  },
  {
   "cell_type": "code",
   "execution_count": null,
   "id": "47ffd146-50cd-4918-91fe-38d7dc01522a",
   "metadata": {},
   "outputs": [],
   "source": []
  }
 ],
 "metadata": {
  "kernelspec": {
   "display_name": "Python [conda env:base] *",
   "language": "python",
   "name": "conda-base-py"
  },
  "language_info": {
   "codemirror_mode": {
    "name": "ipython",
    "version": 3
   },
   "file_extension": ".py",
   "mimetype": "text/x-python",
   "name": "python",
   "nbconvert_exporter": "python",
   "pygments_lexer": "ipython3",
   "version": "3.12.7"
  }
 },
 "nbformat": 4,
 "nbformat_minor": 5
}
